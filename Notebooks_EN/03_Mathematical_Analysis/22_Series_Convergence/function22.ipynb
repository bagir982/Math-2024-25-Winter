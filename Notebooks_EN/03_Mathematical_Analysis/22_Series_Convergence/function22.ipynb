{
  "nbformat": 4,
  "nbformat_minor": 0,
  "metadata": {
    "colab": {
      "provenance": []
    },
    "kernelspec": {
      "name": "python3",
      "display_name": "Python 3"
    },
    "language_info": {
      "name": "python"
    }
  },
  "cells": [
    {
      "cell_type": "code",
      "execution_count": null,
      "metadata": {
        "id": "PLntJ-l4yxtL"
      },
      "outputs": [],
      "source": []
    },
    {
      "cell_type": "markdown",
      "source": [
        "### **6. Find the number of units that maximize profit**\n",
        "\n",
        "- **Profit function:**  \n",
        "  $P(u) = -2u^2 + 50u - 300$\n",
        "\n",
        "- **Solution:**  \n",
        "  Find the critical points by setting the derivative to zero:\n",
        "\n",
        "  $P'(u) = -4u + 50 = 0 \\Rightarrow u = \\frac{50}{4} = 12.5$\n",
        "\n",
        "  Therefore, the profit is maximized when **12.5 units** are sold.\n",
        "\n",
        "---\n",
        "\n",
        "### **7. Find dimensions of the largest rectangle with a perimeter of 10 meters**\n",
        "\n",
        "- **Perimeter equation:**  \n",
        "  $2x + 2y = 10$\n",
        "\n",
        "  Solve for $y$:  \n",
        "  $y = 5 - x$\n",
        "\n",
        "- **Area function:**  \n",
        "  $A(x) = x \\cdot y = x(5 - x) = 5x - x^2$\n",
        "\n",
        "  Find the critical point by setting the derivative to zero:\n",
        "\n",
        "  $A'(x) = 5 - 2x = 0 \\Rightarrow x = \\frac{5}{2}$\n",
        "\n",
        "  Therefore, the dimensions of the rectangle are **2.5 meters by 2.5 meters**.\n",
        "\n",
        "---\n",
        "\n",
        "### **8. Find extremum of $f(x) = x^2 + 3x - 5$**\n",
        "\n",
        "- **Solution:**  \n",
        "  Find the critical point by setting the derivative to zero:\n",
        "\n",
        "  $f'(x) = 2x + 3 = 0 \\Rightarrow x = -\\frac{3}{2}$\n",
        "\n",
        "  Evaluate the function at this point:\n",
        "\n",
        "  $f\\left(-\\frac{3}{2}\\right) = \\left(-\\frac{3}{2}\\right)^2 + 3\\left(-\\frac{3}{2}\\right) - 5 = -\\frac{29}{4}$\n",
        "\n",
        "  Therefore, the minimum value of the function is **$-\\frac{29}{4}$** at **$x = -\\frac{3}{2}$**.\n",
        "\n",
        "---\n",
        "\n",
        "### **9. Find extremum of $f(x) = \\frac{x^2 + 2x + 1}{x - 1}$**\n",
        "\n",
        "- **Solution:**  \n",
        "  Find the critical points by setting the derivative to zero:\n",
        "\n",
        "  $f'(x) = \\frac{x^2 - 4x + 3}{(x - 1)^2} = 0$\n",
        "\n",
        "  The critical points are $x = -1$ and $x = 3$.\n",
        "\n",
        "  - **At $x = -1$:**  \n",
        "    $f(-1) = 0$\n",
        "\n",
        "  - **At $x = 3$:**  \n",
        "    $f(3) = 8$\n",
        "\n",
        "  Therefore, the function has an extremum at **$x = -1$** with value **$0$** and at **$x = 3$** with value **$8$**.\n"
      ],
      "metadata": {
        "id": "jVJJ3RAVy1Z6"
      }
    }
  ]
}