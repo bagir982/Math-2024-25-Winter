{
  "nbformat": 4,
  "nbformat_minor": 0,
  "metadata": {
    "colab": {
      "provenance": []
    },
    "kernelspec": {
      "name": "python3",
      "display_name": "Python 3"
    },
    "language_info": {
      "name": "python"
    }
  },
  "cells": [
    {
      "cell_type": "code",
      "execution_count": null,
      "metadata": {
        "id": "WNxL9vHK-nLb"
      },
      "outputs": [],
      "source": []
    },
    {
      "cell_type": "markdown",
      "source": [
        "### **1. Find the scalar multiplier for vector $\\mathbf{a} = [3, 4]$**\n",
        "\n",
        "- **Explanation:**  \n",
        "  The length of vector $\\mathbf{a}$ is calculated as:  \n",
        "  $ \\|\\mathbf{a}\\| = \\sqrt{3^2 + 4^2} = 5 $\n",
        "\n",
        "  To make the length equal to 1, the vector must be multiplied by:  \n",
        "  $ \\frac{1}{\\|\\mathbf{a}\\|} = \\frac{1}{5} $\n",
        "\n",
        "---\n",
        "\n",
        "### **2. Calculate the length and unit vector of $\\mathbf{b} = [1, 1]$**\n",
        "\n",
        "- **Length:**  \n",
        "  $ \\|\\mathbf{b}\\| = \\sqrt{1^2 + 1^2} = \\sqrt{2} $\n",
        "\n",
        "- **Unit Vector:**  \n",
        "  $ \\hat{\\mathbf{b}} = \\frac{\\mathbf{b}}{\\|\\mathbf{b}\\|} = \\left[ \\frac{\\sqrt{2}}{2}, \\frac{\\sqrt{2}}{2} \\right] $\n",
        "\n",
        "---\n",
        "\n",
        "### **3. Plot the vector and the unit vector**\n",
        "\n",
        "- **Explanation:**  \n",
        "  Plot both vector $\\mathbf{b} = [1, 1]$ and its unit vector $ \\hat{\\mathbf{b}} = \\left[ \\frac{\\sqrt{2}}{2}, \\frac{\\sqrt{2}}{2} \\right] $ on a 2D plane.  \n",
        "  You can use tools like GeoGebra, Desmos, or Matplotlib for visualization.\n",
        "\n",
        "---\n",
        "\n",
        "### **4. Calculate the length and unit vector of $\\mathbf{c} = [1, 2, 3]$**\n",
        "\n",
        "- **Length:**  \n",
        "  $ \\|\\mathbf{c}\\| = \\sqrt{1^2 + 2^2 + 3^2} = \\sqrt{14} $\n",
        "\n",
        "- **Unit Vector:**  \n",
        "  $ \\hat{\\mathbf{c}} = \\frac{\\mathbf{c}}{\\|\\mathbf{c}\\|} = \\left[ \\frac{\\sqrt{14}}{14}, \\frac{\\sqrt{14}}{7}, \\frac{3\\sqrt{14}}{14} \\right] $\n",
        "\n",
        "---\n",
        "\n",
        "### **5. Find the Cartesian coordinates of $\\mathbf{v} = [2, 3, 4]$ in the given basis**\n",
        "\n",
        "- **Basis vectors:**  \n",
        "  $ \\mathbf{b_1} = [1, 0, 1], \\quad \\mathbf{b_2} = [0, 1, 0], \\quad \\mathbf{b_3} = [1, 0, -1] $\n",
        "\n",
        "- **Matrix form:**  \n",
        "  We express the vector in terms of the basis matrix $B$:  \n",
        "  $ B = \\begin{bmatrix} 1 & 0 & 1 \\\\ 0 & 1 & 0 \\\\ 1 & 0 & -1 \\end{bmatrix} $\n",
        "\n",
        "- **Solution:**  \n",
        "  Calculate the coordinates of $\\mathbf{v}$ in the basis:  \n",
        "\n",
        "  $ \\mathbf{v}_\\text{basis} = B^{-1} \\mathbf{v} = \\begin{bmatrix} 3 \\\\ 3 \\\\ -1 \\end{bmatrix} $\n",
        "\n",
        "  Therefore, the Cartesian coordinates of $\\mathbf{v}$ in the given basis are:  \n",
        "  $ [3, 3, -1] $\n"
      ],
      "metadata": {
        "id": "F5h5DJyh-oaH"
      }
    }
  ]
}