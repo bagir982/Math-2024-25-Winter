{
  "nbformat": 4,
  "nbformat_minor": 0,
  "metadata": {
    "colab": {
      "provenance": []
    },
    "kernelspec": {
      "name": "python3",
      "display_name": "Python 3"
    },
    "language_info": {
      "name": "python"
    }
  },
  "cells": [
    {
      "cell_type": "code",
      "execution_count": null,
      "metadata": {
        "id": "Uc7T1U-FBlhx"
      },
      "outputs": [],
      "source": []
    },
    {
      "cell_type": "markdown",
      "source": [
        "### **1. Equation of a sphere with center $P = (1, 2, 3)$ and radius $r = 3$**\n",
        "\n",
        "- **Explanation:**  \n",
        "  The equation of a sphere is given by:\n",
        "\n",
        "  $ (x - x_0)^2 + (y - y_0)^2 + (z - z_0)^2 = r^2 $\n",
        "\n",
        "  Substituting the center $P(1, 2, 3)$ and radius $r = 3$:\n",
        "\n",
        "  $ (x - 1)^2 + (y - 2)^2 + (z - 3)^2 = 9 $\n",
        "\n",
        "---\n",
        "\n",
        "### **2. Do the spheres $x^2 + y^2 + z^2 = 1$ and $x^2 + y^2 + z^2 = 2$ have any common points?**\n",
        "\n",
        "- **Explanation:**  \n",
        "  The left-hand sides of both equations are identical, but the right-hand sides differ. Therefore, there are **no common points** between these spheres.\n",
        "\n",
        "---\n",
        "\n",
        "### **3. Curve formed by the intersection of the spheres**\n",
        "\n",
        "- **Given equations:**  \n",
        "  $ x^2 + y^2 + z^2 = 1 $  \n",
        "  $ (x - 1)^2 + y^2 + z^2 = 1 $\n",
        "\n",
        "- **Explanation:**  \n",
        "  Solving the system of equations, we find that there is **no explicit solution for $z$**, meaning the intersection forms a **circle** in the plane $y = 0$ with radius derived from the sphere constraints.\n",
        "\n",
        "---\n",
        "\n",
        "### **4. Equation of the tangent plane to the paraboloid**\n",
        "\n",
        "- **Paraboloid:**  \n",
        "  $ z = (x - 1)^2 + y^2 + 1 $\n",
        "\n",
        "- **Point:**  \n",
        "  $ P(1, 0, 1) $\n",
        "\n",
        "- **Explanation:**  \n",
        "  The gradient of the paraboloid gives the normal vector to the tangent plane:\n",
        "\n",
        "  $ \\nabla z = [2(x - 1), 2y, -1] $\n",
        "\n",
        "  Substituting the point $P(1, 0, 1)$:\n",
        "\n",
        "  $ \\nabla z = [0, 0, -1] $\n",
        "\n",
        "  The equation of the tangent plane is:\n",
        "\n",
        "  $ z = 2y^2 + (x - 1)(2x - 2) - 1 $\n"
      ],
      "metadata": {
        "id": "LZ9oBqHLBlv3"
      }
    }
  ]
}