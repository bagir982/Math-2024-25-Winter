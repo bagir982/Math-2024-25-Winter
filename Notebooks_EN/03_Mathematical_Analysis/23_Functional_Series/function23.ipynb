{
  "nbformat": 4,
  "nbformat_minor": 0,
  "metadata": {
    "colab": {
      "provenance": []
    },
    "kernelspec": {
      "name": "python3",
      "display_name": "Python 3"
    },
    "language_info": {
      "name": "python"
    }
  },
  "cells": [
    {
      "cell_type": "code",
      "execution_count": null,
      "metadata": {
        "id": "wSjPrJDX0qvY"
      },
      "outputs": [],
      "source": []
    },
    {
      "cell_type": "markdown",
      "source": [
        "### **1. Taylor Series Expansions**\n",
        "\n",
        "1. **For $f(x) = \\cos(x)$ around $x = 0$ up to the 4th degree:**  \n",
        "   The Taylor series is:\n",
        "\n",
        "   $ f(x) \\approx 1 - \\frac{x^2}{2} + \\frac{x^4}{24} $\n",
        "\n",
        "---\n",
        "\n",
        "2. **For $h(x) = \\frac{1}{1 - x}$ around $x = 0$ up to the 4th degree:**  \n",
        "   The Taylor series is:\n",
        "\n",
        "   $ h(x) \\approx 1 + x + x^2 + x^3 + x^4 $\n",
        "\n",
        "---\n",
        "\n",
        "3. **For $g(x) = \\sin(x)$ around $x = \\pi$ up to the 4th degree:**  \n",
        "   The Taylor series is:\n",
        "\n",
        "   $ g(x) \\approx \\pi - x + \\frac{(x - \\pi)^3}{6} $\n",
        "\n",
        "---\n",
        "\n",
        "### **2. Tangent Line to $f(x) = e^{\\sin(x)}$ at $x_0 = \\pi$**\n",
        "\n",
        "1. **Function:** $f(x) = e^{\\sin(x)}$\n",
        "\n",
        "2. **At $x_0 = \\pi$:**\n",
        "   - $f(\\pi) = e^{\\sin(\\pi)} = 1$\n",
        "   - $f'(\\pi) = -1$\n",
        "\n",
        "3. **Tangent Line Equation:**  \n",
        "   $ y = f'(\\pi) \\cdot (x - \\pi) + f(\\pi) $  \n",
        "   $ y = -1 \\cdot (x - \\pi) + 1 = -x + 1 + \\pi $\n",
        "\n",
        "---\n",
        "\n"
      ],
      "metadata": {
        "id": "NHZulCuN0rFX"
      }
    }
  ]
}