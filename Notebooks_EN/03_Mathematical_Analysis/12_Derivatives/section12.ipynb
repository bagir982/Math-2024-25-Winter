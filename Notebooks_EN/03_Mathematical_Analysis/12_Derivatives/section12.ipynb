{
  "nbformat": 4,
  "nbformat_minor": 0,
  "metadata": {
    "colab": {
      "provenance": []
    },
    "kernelspec": {
      "name": "python3",
      "display_name": "Python 3"
    },
    "language_info": {
      "name": "python"
    }
  },
  "cells": [
    {
      "cell_type": "code",
      "execution_count": null,
      "metadata": {
        "id": "Vz3N37uK_Qz3"
      },
      "outputs": [],
      "source": []
    },
    {
      "cell_type": "markdown",
      "source": [
        "### **1. Perform vector addition and plot**\n",
        "\n",
        "- Given vectors:  \n",
        "  $\\mathbf{v_1} = [2, 1]$, $\\mathbf{v_2} = [-1, 1]$\n",
        "\n",
        "- **Addition:**  \n",
        "  $\\mathbf{v_1} + \\mathbf{v_2} = [2 + (-1), 1 + 1] = [1, 2]$\n",
        "\n",
        "- **Explanation:**  \n",
        "  Plot $\\mathbf{v_1}$, $\\mathbf{v_2}$, and their sum $\\mathbf{v_1} + \\mathbf{v_2}$ on a 2D plane using a tool like GeoGebra or Matplotlib.\n",
        "\n",
        "---\n",
        "\n",
        "### **2. Calculate the area of the triangle spanned by vectors $[2, 1, 2]$ and $[-1, 1, 1]$**\n",
        "\n",
        "- **Explanation:**  \n",
        "  The area of a triangle formed by two vectors is given by:\n",
        "\n",
        "  $ \\text{Area} = \\frac{1}{2} \\| \\mathbf{v_1} \\times \\mathbf{v_2} \\| $\n",
        "\n",
        "  The cross product of $[2, 1, 2]$ and $[-1, 1, 1]$ yields a magnitude of $\\sqrt{26}$.\n",
        "\n",
        "- **Result:**  \n",
        "  $ \\text{Area} = \\frac{\\sqrt{26}}{2} $\n",
        "\n",
        "---\n",
        "\n",
        "### **3. Calculate the volume of the parallelepiped**\n",
        "\n",
        "- **Explanation:**  \n",
        "  The volume of a parallelepiped formed by vectors $\\mathbf{v_1}, \\mathbf{v_2}, \\mathbf{v_3}$ is given by the scalar triple product:\n",
        "\n",
        "  $ V = | \\mathbf{v_1} \\cdot (\\mathbf{v_2} \\times \\mathbf{v_3}) | $\n",
        "\n",
        "  For vectors $[2, 1, -1]$, $[-1, 1, 0]$, and $[1, 2, 1]$, the volume is $6$.\n",
        "\n",
        "---\n",
        "\n",
        "### **4. Check if vectors $[2, 1]$ and $[-1, 1]$ are perpendicular**\n",
        "\n",
        "- **Explanation:**  \n",
        "  Two vectors are perpendicular if their dot product is zero.\n",
        "\n",
        "  $ \\mathbf{v_1} \\cdot \\mathbf{v_2} = (2)(-1) + (1)(1) = -2 + 1 = -1 $\n",
        "\n",
        "  Since the dot product is not zero, the vectors are **not perpendicular**.\n",
        "\n",
        "---\n",
        "\n",
        "### **5. Calculate the angle between vectors $[4, 2, 1]$ and $[1, 3, 2]$**\n",
        "\n",
        "- **Explanation:**  \n",
        "  The angle $\\theta$ between two vectors is given by:\n",
        "\n",
        "  $ \\cos(\\theta) = \\frac{\\mathbf{v_1} \\cdot \\mathbf{v_2}}{\\|\\mathbf{v_1}\\| \\|\\mathbf{v_2}\\|} $\n",
        "\n",
        "  After calculating the dot product and norms, the angle is approximately:\n",
        "\n",
        "  $ \\theta = \\cos^{-1}\\left( \\frac{2\\sqrt{6}}{7} \\right) \\approx 48.19^\\circ $\n",
        "\n",
        "---\n",
        "\n",
        "### **6. Prove the identity**\n",
        "\n",
        "For three-dimensional vectors $\\mathbf{a}, \\mathbf{b}, \\mathbf{c}$, the identity to prove is:\n",
        "\n",
        "$ \\mathbf{a} \\cdot (\\mathbf{b} \\times \\mathbf{c}) = \\mathbf{b} \\cdot (\\mathbf{c} \\times \\mathbf{a}) = \\mathbf{c} \\cdot (\\mathbf{a} \\times \\mathbf{b}) $\n",
        "\n",
        "- **Verification:**  \n",
        "  The symbolic calculation confirms that all expressions are equal, proving the identity.\n"
      ],
      "metadata": {
        "id": "WLT_Wq0j_Srl"
      }
    }
  ]
}