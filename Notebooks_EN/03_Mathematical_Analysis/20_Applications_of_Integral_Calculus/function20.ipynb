{
  "nbformat": 4,
  "nbformat_minor": 0,
  "metadata": {
    "colab": {
      "provenance": []
    },
    "kernelspec": {
      "name": "python3",
      "display_name": "Python 3"
    },
    "language_info": {
      "name": "python"
    }
  },
  "cells": [
    {
      "cell_type": "code",
      "execution_count": null,
      "metadata": {
        "id": "BEDNKqNVEyzf"
      },
      "outputs": [],
      "source": []
    },
    {
      "cell_type": "markdown",
      "source": [
        "### **1. Compute the limit**\n",
        "\n",
        "- **Limit:**  \n",
        "  $\\displaystyle \\lim_{x \\to \\infty} \\frac{x^3 + 2x^2}{x^4 - 3x^3}$\n",
        "\n",
        "  Divide both numerator and denominator by $x^3$:\n",
        "\n",
        "  $\\frac{1 + \\frac{2}{x}}{x - 3}$\n",
        "\n",
        "  As $x \\to \\infty$, the terms $\\frac{2}{x}$ and $3$ become negligible. Therefore:\n",
        "\n",
        "  $\\displaystyle \\lim_{x \\to \\infty} \\frac{x^3 + 2x^2}{x^4 - 3x^3} = 0$\n",
        "\n",
        "---\n",
        "\n",
        "### **2. Find the limit**\n",
        "\n",
        "- **Limit:**  \n",
        "  $\\displaystyle \\lim_{x \\to 0} \\frac{\\sin(3x)}{2x + 1}$\n",
        "\n",
        "  Apply the limit directly:\n",
        "\n",
        "  $\\lim_{x \\to 0} \\frac{\\sin(3x)}{2x + 1} = \\frac{0}{1} = 0$\n",
        "\n",
        "---\n",
        "\n",
        "### **4. Find the asymptotes**\n",
        "\n",
        "1. **For $f(x) = \\frac{x^2 - 1}{x^2 + 1}$:**\n",
        "\n",
        "   - **Horizontal Asymptote:**  \n",
        "     $\\displaystyle \\lim_{x \\to \\infty} \\frac{x^2 - 1}{x^2 + 1} = 1$\n",
        "\n",
        "   - The function has a horizontal asymptote at $y = 1$.\n",
        "\n",
        "---\n",
        "\n",
        "2. **For $g(x) = \\frac{\\sin(x)}{x^2 + 1}$:**\n",
        "\n",
        "   - **Horizontal Asymptote:**  \n",
        "     $\\displaystyle \\lim_{x \\to \\infty} \\frac{\\sin(x)}{x^2 + 1} = 0$\n",
        "\n",
        "   - The function has a horizontal asymptote at $y = 0$.\n"
      ],
      "metadata": {
        "id": "8w64-TSME1Un"
      }
    }
  ]
}