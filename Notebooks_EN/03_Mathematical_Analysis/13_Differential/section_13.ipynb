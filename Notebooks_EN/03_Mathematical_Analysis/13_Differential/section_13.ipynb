{
  "nbformat": 4,
  "nbformat_minor": 0,
  "metadata": {
    "colab": {
      "provenance": []
    },
    "kernelspec": {
      "name": "python3",
      "display_name": "Python 3"
    },
    "language_info": {
      "name": "python"
    }
  },
  "cells": [
    {
      "cell_type": "code",
      "execution_count": null,
      "metadata": {
        "id": "k4up96Lb_eJl"
      },
      "outputs": [],
      "source": []
    },
    {
      "cell_type": "markdown",
      "source": [
        "### **1. Divide the line segment connecting points $A(-1, 2)$ and $B(3, -2)$ in the ratio $1:3$**\n",
        "\n",
        "- **Explanation:**  \n",
        "  The point dividing the line segment between $A$ and $B$ in the ratio $1:3$ is given by:\n",
        "\n",
        "  $ P = \\frac{m \\cdot B + n \\cdot A}{m + n} $\n",
        "\n",
        "  Here, $m = 1$ and $n = 3$:\n",
        "\n",
        "  $ P = \\frac{1 \\cdot (3, -2) + 3 \\cdot (-1, 2)}{1 + 3} = (0, 1) $\n",
        "\n",
        "- **Result:** The point dividing the line segment is $ (0, 1) $.\n",
        "\n",
        "---\n",
        "\n",
        "### **2. Project vector $\\mathbf{a} = (3, 4)$ onto the $OX$ and $OY$ axes**\n",
        "\n",
        "- **Explanation:**  \n",
        "  - The projection onto the $OX$ axis is $ (3, 0) $.\n",
        "  - The projection onto the $OY$ axis is $ (0, 4) $.\n",
        "\n",
        "- **Result:**  \n",
        "  - Projection onto $OX$: $ (3, 0) $  \n",
        "  - Projection onto $OY$: $ (0, 4) $\n",
        "\n",
        "---\n",
        "\n",
        "### **3. Project vector $\\mathbf{a} = (2, 3)$ onto vector $\\mathbf{b} = (1, 1)$**\n",
        "\n",
        "- **Explanation:**  \n",
        "  The projection of vector $\\mathbf{a}$ onto vector $\\mathbf{b}$ is given by:\n",
        "\n",
        "  $ \\text{proj}_{\\mathbf{b}} \\mathbf{a} = \\frac{\\mathbf{a} \\cdot \\mathbf{b}}{\\|\\mathbf{b}\\|^2} \\mathbf{b} $\n",
        "\n",
        "  Calculating the projection:\n",
        "\n",
        "  $ \\text{proj}_{\\mathbf{b}} \\mathbf{a} = \\frac{2 + 3}{2} (1, 1) = \\left( \\frac{5}{2}, \\frac{5}{2} \\right) $\n",
        "\n",
        "- **Result:** $ \\left( \\frac{5}{2}, \\frac{5}{2} \\right) $\n",
        "\n",
        "---\n",
        "\n",
        "### **4. Project vector $\\mathbf{b} = (1, 1)$ onto vector $\\mathbf{a} = (2, 3)$**\n",
        "\n",
        "- **Explanation:**  \n",
        "  The projection of vector $\\mathbf{b}$ onto vector $\\mathbf{a}$ is given by:\n",
        "\n",
        "  $ \\text{proj}_{\\mathbf{a}} \\mathbf{b} = \\frac{\\mathbf{b} \\cdot \\mathbf{a}}{\\|\\mathbf{a}\\|^2} \\mathbf{a} $\n",
        "\n",
        "  Calculating the projection:\n",
        "\n",
        "  $ \\text{proj}_{\\mathbf{a}} \\mathbf{b} = \\frac{2 + 3}{14} (2, 3) = \\left( \\frac{10}{13}, \\frac{15}{13} \\right) $\n",
        "\n",
        "- **Result:** $ \\left( \\frac{10}{13}, \\frac{15}{13} \\right) $\n"
      ],
      "metadata": {
        "id": "LRx12Y9K_gZa"
      }
    }
  ]
}