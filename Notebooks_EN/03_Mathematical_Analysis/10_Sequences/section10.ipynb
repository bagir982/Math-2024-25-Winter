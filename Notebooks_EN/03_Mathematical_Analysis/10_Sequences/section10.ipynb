{
  "nbformat": 4,
  "nbformat_minor": 0,
  "metadata": {
    "colab": {
      "provenance": []
    },
    "kernelspec": {
      "name": "python3",
      "display_name": "Python 3"
    },
    "language_info": {
      "name": "python"
    }
  },
  "cells": [
    {
      "cell_type": "code",
      "execution_count": null,
      "metadata": {
        "id": "tHUggH8c97NK"
      },
      "outputs": [],
      "source": []
    },
    {
      "cell_type": "markdown",
      "source": [
        "### **1. Solve the system of equations using the inverse matrix method:**\n",
        "\n",
        "Given system:\n",
        "\n",
        "$$\n",
        "\\begin{cases}\n",
        "x + 2y + 3z = 5, \\\\\n",
        "2y + 3z = 4, \\\\\n",
        "3z = 3.\n",
        "\\end{cases}\n",
        "$$\n",
        "\n",
        "#### **Matrix Form:**\n",
        "\n",
        "We express the system in the form $Ax = b$:\n",
        "\n",
        "- $A_1 = \\begin{bmatrix} 1 & 2 & 3 \\\\ 0 & 2 & 3 \\\\ 0 & 0 & 3 \\end{bmatrix}$  \n",
        "- $b_1 = \\begin{bmatrix} 5 \\\\ 4 \\\\ 3 \\end{bmatrix}$\n",
        "\n",
        "#### **Solution:**\n",
        "\n",
        "Calculate the inverse of $A_1$ and multiply by $b_1$:\n",
        "\n",
        "$$\n",
        "A_1^{-1} b_1 = \\begin{bmatrix} 1 \\\\ \\frac{1}{2} \\\\ 1 \\end{bmatrix}\n",
        "$$\n",
        "\n",
        "Thus, the solution is:\n",
        "\n",
        "- $x = 1$,  \n",
        "- $y = \\frac{1}{2}$,  \n",
        "- $z = 1$.\n",
        "\n",
        "---\n",
        "\n",
        "### **2. Solve the system of equations using the inverse matrix method:**\n",
        "\n",
        "Given system:\n",
        "\n",
        "$$\n",
        "\\begin{cases}\n",
        "x_1 + 2x_2 + 3x_3 = 41, \\\\\n",
        "4x_1 + 5x_2 + 6x_3 = 93, \\\\\n",
        "7x_1 + 8x_2 + 9x_3 = 145.\n",
        "\\end{cases}\n",
        "$$\n",
        "\n",
        "#### **Matrix Form:**\n",
        "\n",
        "We express the system in the form $Ax = b$:\n",
        "\n",
        "- $A_2 = \\begin{bmatrix} 1 & 2 & 3 \\\\ 4 & 5 & 6 \\\\ 7 & 8 & 9 \\end{bmatrix}$  \n",
        "- $b_2 = \\begin{bmatrix} 41 \\\\ 93 \\\\ 145 \\end{bmatrix}$\n",
        "\n",
        "#### **Determinant Check:**\n",
        "\n",
        "Calculate the determinant of $A_2$:\n",
        "\n",
        "$$\n",
        "\\det(A_2) = 0\n",
        "$$\n",
        "\n",
        "Since the determinant is zero, $A_2$ is not invertible, and the system does not have a unique solution.\n"
      ],
      "metadata": {
        "id": "X5XOUVzK98bB"
      }
    }
  ]
}