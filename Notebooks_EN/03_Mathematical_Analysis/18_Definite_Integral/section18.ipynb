{
  "nbformat": 4,
  "nbformat_minor": 0,
  "metadata": {
    "colab": {
      "provenance": []
    },
    "kernelspec": {
      "name": "python3",
      "display_name": "Python 3"
    },
    "language_info": {
      "name": "python"
    }
  },
  "cells": [
    {
      "cell_type": "markdown",
      "source": [
        "### **1. Evaluate the functions at $x = 2$**\n",
        "\n",
        "- **Functions:**\n",
        "  - $f(x) = x^2$\n",
        "  - $g(x) = \\sqrt{x}$\n",
        "  - $h(x) = \\frac{1}{x}$\n",
        "  - $j(x) = \\sin(x)$\n",
        "\n",
        "- **Results:**\n",
        "  - $f(2) = 4$\n",
        "  - $g(2) = \\sqrt{2} \\approx 1.41$\n",
        "  - $h(2) = \\frac{1}{2} = 0.5$\n",
        "  - $j(2) = \\sin(2) \\approx 0.91$\n",
        "\n",
        "---\n",
        "\n",
        "### **2. Function compositions**\n",
        "\n",
        "Let $f(x) = 3x - 1$ and $g(x) = \\sqrt{x}$.\n",
        "\n",
        "- **Compositions:**\n",
        "  - $f(g(x)) = 3\\sqrt{x} - 1$\n",
        "  - $g(f(x)) = \\sqrt{3x - 1}$\n",
        "  - $f(f(x)) = 9x - 4$\n",
        "  - $g(g(x)) = x^{1/4}$\n",
        "\n",
        "---\n",
        "\n",
        "### **3. Exponential and logarithmic functions**\n",
        "\n",
        "Let $f(x) = e^x$ and $g(x) = \\ln(x)$.\n",
        "\n",
        "- **Compositions:**\n",
        "  - $f(g(x)) = f(\\ln(x)) = e^{\\ln(x)} = x$\n",
        "  - $g(f(x)) = g(e^x) = \\ln(e^x) = x$\n",
        "\n",
        "- **Observation:**  \n",
        "  The functions $f(x)$ and $g(x)$ are **inverses** of each other.\n",
        "\n",
        "---\n",
        "\n",
        "### **4. Inverse function for $f = \\{(1, 7), (2, 9), (3, 11)\\}$**\n",
        "\n",
        "- **Inverse function:**  \n",
        "  $f^{-1} = \\{(7, 1), (9, 2), (11, 3)\\}$\n",
        "\n",
        "---\n",
        "\n",
        "### **5. Inverse function for $f = \\{(1, 7), (2, 7), (3, 11)\\}$**\n",
        "\n",
        "- **Inverse function:**  \n",
        "  $f^{-1} = \\{(7, 1), (7, 2), (11, 3)\\}$\n",
        "\n",
        "  **Note:** The function is not one-to-one, so the inverse is not strictly a function.\n",
        "\n",
        "---\n",
        "\n",
        "### **6. Inverse function for $f(x) = x - 1$**\n",
        "\n",
        "- **Function:**  \n",
        "  $f(x) = x - 1$\n",
        "\n",
        "- **Inverse:**  \n",
        "  $f^{-1}(y) = y + 1$\n",
        "\n",
        "  Both $f(x)$ and $f^{-1}(x)$ can be visualized together to confirm the inverse relationship.\n"
      ],
      "metadata": {
        "id": "6C2j71VHCLrS"
      }
    }
  ]
}