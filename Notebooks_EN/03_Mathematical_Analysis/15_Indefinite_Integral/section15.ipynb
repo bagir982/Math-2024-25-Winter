{
  "nbformat": 4,
  "nbformat_minor": 0,
  "metadata": {
    "colab": {
      "provenance": []
    },
    "kernelspec": {
      "name": "python3",
      "display_name": "Python 3"
    },
    "language_info": {
      "name": "python"
    }
  },
  "cells": [
    {
      "cell_type": "code",
      "execution_count": null,
      "metadata": {
        "id": "Cr07YZDCAsGR"
      },
      "outputs": [],
      "source": []
    },
    {
      "cell_type": "markdown",
      "source": [
        "### **1. Equation of the circle**\n",
        "\n",
        "- **Explanation:**  \n",
        "  The equation of a circle with center $A(1, 2)$ and radius $r = 3$ is:\n",
        "\n",
        "  $ (x - 1)^2 + (y - 2)^2 = 9 $\n",
        "\n",
        "---\n",
        "\n",
        "### **2. Equation of the parabola**\n",
        "\n",
        "- **Explanation:**  \n",
        "  The parabola passes through points $(2, 0)$, $(4, 0)$, and $(3, 1)$. The general form of the parabola is:\n",
        "\n",
        "  $ y = ax^2 + bx + c $\n",
        "\n",
        "  Using the points, we form the system of equations:\n",
        "\n",
        "  $ \\begin{cases} 4a + 2b + c = 0 \\\\ 16a + 4b + c = 0 \\\\ 9a + 3b + c = 1 \\end{cases} $\n",
        "\n",
        "  Solving this system, we find:\n",
        "\n",
        "  $ a = -\\frac{1}{2}, \\quad b = 3, \\quad c = -5 $\n",
        "\n",
        "  The equation of the parabola is:\n",
        "\n",
        "  $ y = -\\frac{1}{2}x^2 + 3x - 5 $\n",
        "\n",
        "---\n",
        "\n",
        "### **3. Center of the ellipse**\n",
        "\n",
        "- **Explanation:**  \n",
        "  The equation of the ellipse is:\n",
        "\n",
        "  $ x^2 + 4y^2 - 4x - 16y + 16 = 0 $\n",
        "\n",
        "  Completing the square for $x$ and $y$ terms, we find the center of the ellipse is:\n",
        "\n",
        "  $ (2, 2) $\n",
        "\n",
        "---\n",
        "\n",
        "### **4. Slope of the tangent line**\n",
        "\n",
        "- **Explanation:**  \n",
        "  We need to find the slope $m > 0$ such that the line $y = mx - 5$ is tangent to the circle $x^2 + y^2 = 1$.\n",
        "\n",
        "  Solving the tangent condition, the valid slope is:\n",
        "\n",
        "  $ m = \\frac{2\\sqrt{6}}{5} $\n",
        "\n",
        "---\n",
        "\n",
        "### **5. Intersection points of the hyperbola and ellipse**\n",
        "\n",
        "- **Explanation:**  \n",
        "  The system of equations is:\n",
        "\n",
        "  $ \\begin{cases} x^2 - y^2 = 1 \\\\ x^2 + 4y^2 = 6 \\end{cases} $\n",
        "\n",
        "  Solving this system, the intersection points are:\n",
        "\n",
        "  $ ( \\pm \\sqrt{\\frac{10}{3}}, \\pm \\frac{1}{\\sqrt{3}} ) $\n",
        "\n",
        "---\n",
        "\n",
        "### **6. Distance between branches of the hyperbola**\n",
        "\n",
        "- **Explanation:**  \n",
        "  For the hyperbola $x^2 - y^2 = 1$, the branches are asymptotic and infinitely separated. Therefore, there is no finite distance between the branches.\n"
      ],
      "metadata": {
        "id": "vFJHHpFqAuDo"
      }
    }
  ]
}