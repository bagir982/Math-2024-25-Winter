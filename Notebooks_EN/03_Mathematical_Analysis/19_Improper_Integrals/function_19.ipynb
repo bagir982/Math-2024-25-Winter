{
  "nbformat": 4,
  "nbformat_minor": 0,
  "metadata": {
    "colab": {
      "provenance": []
    },
    "kernelspec": {
      "name": "python3",
      "display_name": "Python 3"
    },
    "language_info": {
      "name": "python"
    }
  },
  "cells": [
    {
      "cell_type": "code",
      "execution_count": null,
      "metadata": {
        "id": "Q0JKSV1YEept"
      },
      "outputs": [],
      "source": []
    },
    {
      "cell_type": "markdown",
      "source": [
        "### **1. Calculate the limits**\n",
        "\n",
        "- **Limit 1:**  \n",
        "  $\\displaystyle \\lim_{n \\to \\infty} \\frac{n^2 + 3n}{2n^2 - 2n}$\n",
        "\n",
        "  Divide both numerator and denominator by $n^2$:\n",
        "\n",
        "  $\\frac{\\frac{n^2 + 3n}{n^2}}{\\frac{2n^2 - 2n}{n^2}} = \\frac{1 + \\frac{3}{n}}{2 - \\frac{2}{n}}$\n",
        "\n",
        "  As $n \\to \\infty$, the fractions $\\frac{3}{n}$ and $\\frac{2}{n}$ approach $0$. Therefore:\n",
        "\n",
        "  $\\displaystyle \\lim_{n \\to \\infty} \\frac{n^2 + 3n}{2n^2 - 2n} = \\frac{1}{2}$\n",
        "\n",
        "---\n",
        "\n",
        "- **Limit 2:**  \n",
        "  $\\displaystyle \\lim_{n \\to \\infty} \\frac{(2n + 3)^3}{n^3 - 1}$\n",
        "\n",
        "  Expand $(2n + 3)^3$:\n",
        "\n",
        "  $(2n + 3)^3 = 8n^3 + 12n^2 + 18n + 27$\n",
        "\n",
        "  Divide both numerator and denominator by $n^3$:\n",
        "\n",
        "  $\\frac{8n^3 + 12n^2 + 18n + 27}{n^3 - 1} = \\frac{8 + \\frac{12}{n} + \\frac{18}{n^2} + \\frac{27}{n^3}}{1 - \\frac{1}{n^3}}$\n",
        "\n",
        "  As $n \\to \\infty$, all terms with $n$ in the denominator approach $0$. Therefore:\n",
        "\n",
        "  $\\displaystyle \\lim_{n \\to \\infty} \\frac{(2n + 3)^3}{n^3 - 1} = 8$\n",
        "\n",
        "---\n",
        "\n",
        "### **2. Prove using the squeeze theorem**\n",
        "\n",
        "- **Given:**  \n",
        "  $\\displaystyle \\lim_{n \\to \\infty} \\frac{\\sin(n)}{n}$  \n",
        "\n",
        "- **Explanation:**  \n",
        "  Since $-1 \\leq \\sin(n) \\leq 1$, we have:\n",
        "\n",
        "  $ -\\frac{1}{n} \\leq \\frac{\\sin(n)}{n} \\leq \\frac{1}{n} $\n",
        "\n",
        "  As $n \\to \\infty$, both $-\\frac{1}{n}$ and $\\frac{1}{n}$ approach $0$. By the squeeze theorem:\n",
        "\n",
        "  $\\displaystyle \\lim_{n \\to \\infty} \\frac{\\sin(n)}{n} = 0$\n",
        "\n",
        "---\n",
        "\n",
        "### **4. Limit of the sequence**\n",
        "\n",
        "- **Sequence:**  \n",
        "  $a_n = \\left(1 + \\frac{1}{n}\\right)^n$\n",
        "\n",
        "- **Explanation:**  \n",
        "  The sequence $a_n = \\left(1 + \\frac{1}{n}\\right)^n$ converges to the mathematical constant $e$ as $n \\to \\infty$.\n",
        "\n",
        "  Therefore:\n",
        "\n",
        "  $\\displaystyle \\lim_{n \\to \\infty} \\left(1 + \\frac{1}{n}\\right)^n = e$\n",
        "\n",
        "---\n",
        "\n",
        "### **Summary of Results:**\n",
        "\n",
        "1. $\\displaystyle \\lim_{n \\to \\infty} \\frac{n^2 + 3n}{2n^2 - 2n} = \\frac{1}{2}$\n",
        "2. $\\displaystyle \\lim_{n \\to \\infty} \\frac{(2n + 3)^3}{n^3 - 1} = 8$\n",
        "3. $\\displaystyle \\lim_{n \\to \\infty} \\frac{\\sin(n)}{n} = 0$\n",
        "4. $\\displaystyle \\lim_{n \\to \\infty} \\left(1 + \\frac{1}{n}\\right)^n = e \\approx 2.718$\n"
      ],
      "metadata": {
        "id": "C3P5A8TFEe58"
      }
    }
  ]
}