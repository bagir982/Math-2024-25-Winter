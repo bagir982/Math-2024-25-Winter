{
  "nbformat": 4,
  "nbformat_minor": 0,
  "metadata": {
    "colab": {
      "provenance": []
    },
    "kernelspec": {
      "name": "python3",
      "display_name": "Python 3"
    },
    "language_info": {
      "name": "python"
    }
  },
  "cells": [
    {
      "cell_type": "code",
      "execution_count": null,
      "metadata": {
        "id": "q4uco7nebeqF"
      },
      "outputs": [],
      "source": []
    },
    {
      "cell_type": "markdown",
      "source": [
        "# Tasks Related to Second-Order Surfaces\n",
        "\n",
        "Visualize each task using Python, GeoGebra, Wolfram Alpha, or other tools.\n",
        "\n",
        "---\n",
        "\n",
        "### 1. Write the equation of a sphere with center at point $P = (1, 2, 3)$ and radius $r = 3$.\n",
        "\n",
        "---\n",
        "\n",
        "### 2. Do the spheres with equations $x^2 + y^2 + z^2 = 1$ and $x^2 + y^2 + z^2 = 2$ have any common points?\n",
        "\n",
        "---\n",
        "\n",
        "### 3. What curve in space is formed by the intersection of the sphere $x^2 + y^2 + z^2 = 1$ with the sphere $(x - 1)^2 + y^2 + z^2 = 1$? Find the equation of this curve.\n",
        "\n",
        "---\n",
        "\n",
        "### 4. Write the equation of the tangent plane to the paraboloid $z = (x - 1)^2 + y^2 + 1$ at point $P = (1, 0, 1)$.\n"
      ],
      "metadata": {
        "id": "koNOgbmCb-gk"
      }
    },
    {
      "cell_type": "markdown",
      "source": [
        "# Tasks Related to Second-Order Surfaces\n",
        "\n",
        "Visualize each task using Python, GeoGebra, Wolfram Alpha, or other tools.\n",
        "\n",
        "---\n",
        "\n",
        "### 1. Write the equation of a sphere with center at point $P = (1, 2, 3)$ and radius $r = 3$.\n",
        "\n",
        "The equation of a sphere is given by:  \n",
        "$ (x - x_0)^2 + (y - y_0)^2 + (z - z_0)^2 = r^2 $\n",
        "\n",
        "Substitute $P(1, 2, 3)$ and $r = 3$:  \n",
        "$ (x - 1)^2 + (y - 2)^2 + (z - 3)^2 = 9 $\n",
        "\n",
        "---\n",
        "\n",
        "### 2. Do the spheres with equations $x^2 + y^2 + z^2 = 1$ and $x^2 + y^2 + z^2 = 2$ have any common points?\n",
        "\n",
        "1. Analyze the equations:  \n",
        "   $ x^2 + y^2 + z^2 = 1 $ represents a sphere centered at the origin with radius $1$.  \n",
        "   $ x^2 + y^2 + z^2 = 2 $ represents a sphere centered at the origin with radius $\\sqrt{2}$.  \n",
        "\n",
        "2. Since the two spheres are concentric (same center) but have different radii, they do not intersect or share any points.\n",
        "\n",
        "---\n",
        "\n",
        "### 3. What curve in space is formed by the intersection of the sphere $x^2 + y^2 + z^2 = 1$ with the sphere $(x - 1)^2 + y^2 + z^2 = 1$? Find the equation of this curve.\n",
        "\n",
        "1. First, expand the second sphere equation:  \n",
        "   $ (x - 1)^2 + y^2 + z^2 = 1 \\implies x^2 - 2x + 1 + y^2 + z^2 = 1 $\n",
        "\n",
        "2. Subtract the first sphere equation from the second:  \n",
        "   $ x^2 - 2x + 1 + y^2 + z^2 - (x^2 + y^2 + z^2) = 1 - 1 $  \n",
        "   $ -2x + 1 = 0 \\implies x = \\frac{1}{2} $\n",
        "\n",
        "3. The intersection is the circle formed by the planes $x = \\frac{1}{2}$ and $x^2 + y^2 + z^2 = 1$.\n",
        "\n",
        "4. Substituting $x = \\frac{1}{2}$ into the sphere equation:  \n",
        "   $ \\left(\\frac{1}{2}\\right)^2 + y^2 + z^2 = 1 \\implies y^2 + z^2 = \\frac{3}{4} $\n",
        "\n",
        "   Final equation of the curve:  \n",
        "   $ x = \\frac{1}{2}, \\quad y^2 + z^2 = \\frac{3}{4} $\n",
        "\n",
        "---\n",
        "\n",
        "### 4. Write the equation of the tangent plane to the paraboloid $z = (x - 1)^2 + y^2 + 1$ at point $P = (1, 0, 1)$.\n",
        "\n",
        "1. Compute the partial derivatives of $z$:  \n",
        "   $ \\frac{\\partial z}{\\partial x} = 2(x - 1), \\quad \\frac{\\partial z}{\\partial y} = 2y $\n",
        "\n",
        "2. At point $P(1, 0, 1)$:  \n",
        "   $ \\frac{\\partial z}{\\partial x} = 2(1 - 1) = 0, \\quad \\frac{\\partial z}{\\partial y} = 2(0) = 0 $\n",
        "\n",
        "3. The tangent plane equation at $P$ is:  \n",
        "   $ z - z_0 = \\frac{\\partial z}{\\partial x}(x - x_0) + \\frac{\\partial z}{\\partial y}(y - y_0) $\n",
        "\n",
        "4. Substitute $P(1, 0, 1)$:  \n",
        "   $ z - 1 = 0(x - 1) + 0(y - 0) \\implies z = 1 $\n",
        "\n",
        "   Final equation:  \n",
        "   $ z = 1 $\n"
      ],
      "metadata": {
        "id": "GZjZEHP5bg72"
      }
    }
  ]
}